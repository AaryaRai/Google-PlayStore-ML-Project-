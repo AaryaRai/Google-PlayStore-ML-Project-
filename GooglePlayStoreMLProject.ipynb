{
 "cells": [
  {
   "cell_type": "code",
   "execution_count": 134,
   "metadata": {},
   "outputs": [],
   "source": [
    "import numpy as np\n",
    "import pandas as pd"
   ]
  },
  {
   "cell_type": "code",
   "execution_count": 135,
   "metadata": {},
   "outputs": [],
   "source": [
    "from sklearn.model_selection import train_test_split\n",
    "\n",
    "import matplotlib\n",
    "import matplotlib.pyplot as plt\n",
    "import seaborn as sns\n",
    "\n",
    "from sklearn.metrics import mean_squared_error, r2_score\n",
    "\n",
    "from sklearn import preprocessing\n",
    "\n",
    "from sklearn.metrics import confusion_matrix, classification_report, accuracy_score, recall_score, f1_score"
   ]
  },
  {
   "cell_type": "code",
   "execution_count": 136,
   "metadata": {},
   "outputs": [],
   "source": [
    "## Loading the data\n",
    "data_df = pd.read_csv('C:/Users/aarya/Documents/Summer_2019/Google Playstore Project/Data/googleplaystore.csv')"
   ]
  },
  {
   "cell_type": "code",
   "execution_count": 137,
   "metadata": {},
   "outputs": [
    {
     "data": {
      "text/plain": [
       "Index(['App', 'Category', 'Rating', 'Reviews', 'Size', 'Installs', 'Type',\n",
       "       'Price', 'Content Rating', 'Genres', 'Last Updated', 'Current Ver',\n",
       "       'Android Ver'],\n",
       "      dtype='object')"
      ]
     },
     "execution_count": 137,
     "metadata": {},
     "output_type": "execute_result"
    }
   ],
   "source": [
    "data_df.columns"
   ]
  },
  {
   "cell_type": "code",
   "execution_count": 138,
   "metadata": {},
   "outputs": [],
   "source": [
    "features_df = data_df.drop(columns = ['App','Genres','Last Updated','Android Ver','Current Ver'])"
   ]
  },
  {
   "cell_type": "code",
   "execution_count": 139,
   "metadata": {},
   "outputs": [
    {
     "data": {
      "text/plain": [
       "Index(['Category', 'Rating', 'Reviews', 'Size', 'Installs', 'Type', 'Price',\n",
       "       'Content Rating'],\n",
       "      dtype='object')"
      ]
     },
     "execution_count": 139,
     "metadata": {},
     "output_type": "execute_result"
    }
   ],
   "source": [
    "features_df.columns"
   ]
  },
  {
   "cell_type": "markdown",
   "metadata": {},
   "source": [
    "### Data Pre-processing"
   ]
  },
  {
   "cell_type": "markdown",
   "metadata": {},
   "source": [
    "### Content rating (One hot encoding)"
   ]
  },
  {
   "cell_type": "code",
   "execution_count": 140,
   "metadata": {},
   "outputs": [],
   "source": [
    "features_df[\"Content Rating\"].fillna(method = 'ffill', inplace = True)"
   ]
  },
  {
   "cell_type": "code",
   "execution_count": 141,
   "metadata": {},
   "outputs": [],
   "source": [
    "features_df = pd.get_dummies(features_df, columns=['Content Rating'])"
   ]
  },
  {
   "cell_type": "code",
   "execution_count": null,
   "metadata": {},
   "outputs": [],
   "source": []
  },
  {
   "cell_type": "code",
   "execution_count": 142,
   "metadata": {},
   "outputs": [
    {
     "data": {
      "text/html": [
       "<div>\n",
       "<style scoped>\n",
       "    .dataframe tbody tr th:only-of-type {\n",
       "        vertical-align: middle;\n",
       "    }\n",
       "\n",
       "    .dataframe tbody tr th {\n",
       "        vertical-align: top;\n",
       "    }\n",
       "\n",
       "    .dataframe thead th {\n",
       "        text-align: right;\n",
       "    }\n",
       "</style>\n",
       "<table border=\"1\" class=\"dataframe\">\n",
       "  <thead>\n",
       "    <tr style=\"text-align: right;\">\n",
       "      <th></th>\n",
       "      <th>Category</th>\n",
       "      <th>Rating</th>\n",
       "      <th>Reviews</th>\n",
       "      <th>Size</th>\n",
       "      <th>Installs</th>\n",
       "      <th>Type</th>\n",
       "      <th>Price</th>\n",
       "      <th>Content Rating_Adults only 18+</th>\n",
       "      <th>Content Rating_Everyone</th>\n",
       "      <th>Content Rating_Everyone 10+</th>\n",
       "      <th>Content Rating_Mature 17+</th>\n",
       "      <th>Content Rating_Teen</th>\n",
       "      <th>Content Rating_Unrated</th>\n",
       "    </tr>\n",
       "  </thead>\n",
       "  <tbody>\n",
       "    <tr>\n",
       "      <th>0</th>\n",
       "      <td>ART_AND_DESIGN</td>\n",
       "      <td>4.1</td>\n",
       "      <td>159</td>\n",
       "      <td>19M</td>\n",
       "      <td>10,000+</td>\n",
       "      <td>Free</td>\n",
       "      <td>0</td>\n",
       "      <td>0</td>\n",
       "      <td>1</td>\n",
       "      <td>0</td>\n",
       "      <td>0</td>\n",
       "      <td>0</td>\n",
       "      <td>0</td>\n",
       "    </tr>\n",
       "    <tr>\n",
       "      <th>1</th>\n",
       "      <td>ART_AND_DESIGN</td>\n",
       "      <td>3.9</td>\n",
       "      <td>967</td>\n",
       "      <td>14M</td>\n",
       "      <td>500,000+</td>\n",
       "      <td>Free</td>\n",
       "      <td>0</td>\n",
       "      <td>0</td>\n",
       "      <td>1</td>\n",
       "      <td>0</td>\n",
       "      <td>0</td>\n",
       "      <td>0</td>\n",
       "      <td>0</td>\n",
       "    </tr>\n",
       "    <tr>\n",
       "      <th>2</th>\n",
       "      <td>ART_AND_DESIGN</td>\n",
       "      <td>4.7</td>\n",
       "      <td>87510</td>\n",
       "      <td>8.7M</td>\n",
       "      <td>5,000,000+</td>\n",
       "      <td>Free</td>\n",
       "      <td>0</td>\n",
       "      <td>0</td>\n",
       "      <td>1</td>\n",
       "      <td>0</td>\n",
       "      <td>0</td>\n",
       "      <td>0</td>\n",
       "      <td>0</td>\n",
       "    </tr>\n",
       "    <tr>\n",
       "      <th>3</th>\n",
       "      <td>ART_AND_DESIGN</td>\n",
       "      <td>4.5</td>\n",
       "      <td>215644</td>\n",
       "      <td>25M</td>\n",
       "      <td>50,000,000+</td>\n",
       "      <td>Free</td>\n",
       "      <td>0</td>\n",
       "      <td>0</td>\n",
       "      <td>0</td>\n",
       "      <td>0</td>\n",
       "      <td>0</td>\n",
       "      <td>1</td>\n",
       "      <td>0</td>\n",
       "    </tr>\n",
       "    <tr>\n",
       "      <th>4</th>\n",
       "      <td>ART_AND_DESIGN</td>\n",
       "      <td>4.3</td>\n",
       "      <td>967</td>\n",
       "      <td>2.8M</td>\n",
       "      <td>100,000+</td>\n",
       "      <td>Free</td>\n",
       "      <td>0</td>\n",
       "      <td>0</td>\n",
       "      <td>1</td>\n",
       "      <td>0</td>\n",
       "      <td>0</td>\n",
       "      <td>0</td>\n",
       "      <td>0</td>\n",
       "    </tr>\n",
       "  </tbody>\n",
       "</table>\n",
       "</div>"
      ],
      "text/plain": [
       "         Category  Rating Reviews  Size     Installs  Type Price  \\\n",
       "0  ART_AND_DESIGN     4.1     159   19M      10,000+  Free     0   \n",
       "1  ART_AND_DESIGN     3.9     967   14M     500,000+  Free     0   \n",
       "2  ART_AND_DESIGN     4.7   87510  8.7M   5,000,000+  Free     0   \n",
       "3  ART_AND_DESIGN     4.5  215644   25M  50,000,000+  Free     0   \n",
       "4  ART_AND_DESIGN     4.3     967  2.8M     100,000+  Free     0   \n",
       "\n",
       "   Content Rating_Adults only 18+  Content Rating_Everyone  \\\n",
       "0                               0                        1   \n",
       "1                               0                        1   \n",
       "2                               0                        1   \n",
       "3                               0                        0   \n",
       "4                               0                        1   \n",
       "\n",
       "   Content Rating_Everyone 10+  Content Rating_Mature 17+  \\\n",
       "0                            0                          0   \n",
       "1                            0                          0   \n",
       "2                            0                          0   \n",
       "3                            0                          0   \n",
       "4                            0                          0   \n",
       "\n",
       "   Content Rating_Teen  Content Rating_Unrated  \n",
       "0                    0                       0  \n",
       "1                    0                       0  \n",
       "2                    0                       0  \n",
       "3                    1                       0  \n",
       "4                    0                       0  "
      ]
     },
     "execution_count": 142,
     "metadata": {},
     "output_type": "execute_result"
    }
   ],
   "source": [
    "features_df.head()"
   ]
  },
  {
   "cell_type": "markdown",
   "metadata": {},
   "source": [
    "### Type (converting into binary)"
   ]
  },
  {
   "cell_type": "code",
   "execution_count": 143,
   "metadata": {},
   "outputs": [],
   "source": [
    "def type_cat(types):\n",
    "    if types == 'Free':\n",
    "        return 0\n",
    "    else:\n",
    "        return 1\n",
    "\n",
    "features_df['Type'] = features_df['Type'].map(type_cat)\n",
    "features_df.Type.fillna(method = 'ffill', inplace = True)"
   ]
  },
  {
   "cell_type": "markdown",
   "metadata": {},
   "source": [
    "### Installs \n",
    "\n"
   ]
  },
  {
   "cell_type": "code",
   "execution_count": 144,
   "metadata": {},
   "outputs": [],
   "source": [
    "#features_df['Installs'] = [int(i[:-1].replace(',','')) for i in features_df['Installs']]\n",
    "\n",
    "features_df.Installs=features_df.Installs.apply(lambda x: x.strip('+'))\n",
    "features_df.Installs=features_df.Installs.apply(lambda x: x.replace(',',''))\n",
    "features_df.Installs=features_df.Installs.replace('Free',np.nan)\n",
    "#features_df.Installs.value_counts()\n",
    "features_df.Installs.fillna(method = 'ffill', inplace = True)"
   ]
  },
  {
   "cell_type": "markdown",
   "metadata": {},
   "source": [
    "### Size"
   ]
  },
  {
   "cell_type": "code",
   "execution_count": 145,
   "metadata": {},
   "outputs": [],
   "source": [
    "def size(size):\n",
    "    if 'M' in size:\n",
    "        x = size[:-1]\n",
    "        x = float(x)*1000000\n",
    "        return(x)\n",
    "    elif 'k' == size[-1:]:\n",
    "        x = size[:-1]\n",
    "        x = float(x)*1000\n",
    "        return(x)\n",
    "    else:\n",
    "        return None\n",
    "\n",
    "features_df[\"Size\"] = features_df[\"Size\"].map(size)\n",
    "\n",
    "#filling Size which had NA\n",
    "features_df.Size.fillna(method = 'ffill', inplace = True)"
   ]
  },
  {
   "cell_type": "code",
   "execution_count": 162,
   "metadata": {},
   "outputs": [
    {
     "data": {
      "text/plain": [
       "0        19000000.0\n",
       "1        14000000.0\n",
       "2         8700000.0\n",
       "3        25000000.0\n",
       "4         2800000.0\n",
       "5         5600000.0\n",
       "6        19000000.0\n",
       "7        29000000.0\n",
       "8        33000000.0\n",
       "9         3100000.0\n",
       "10       28000000.0\n",
       "11       12000000.0\n",
       "12       20000000.0\n",
       "13       21000000.0\n",
       "14       37000000.0\n",
       "15        2700000.0\n",
       "16        5500000.0\n",
       "17       17000000.0\n",
       "18       39000000.0\n",
       "19       31000000.0\n",
       "20       14000000.0\n",
       "21       12000000.0\n",
       "22        4200000.0\n",
       "23        7000000.0\n",
       "24       23000000.0\n",
       "25        6000000.0\n",
       "26       25000000.0\n",
       "27        6100000.0\n",
       "28        4600000.0\n",
       "29        4200000.0\n",
       "            ...    \n",
       "10811     3900000.0\n",
       "10812    13000000.0\n",
       "10813     2700000.0\n",
       "10814    31000000.0\n",
       "10815     4900000.0\n",
       "10816     6800000.0\n",
       "10817     8000000.0\n",
       "10818     1500000.0\n",
       "10819     3600000.0\n",
       "10820     8600000.0\n",
       "10821     2500000.0\n",
       "10822     3100000.0\n",
       "10823     2900000.0\n",
       "10824    82000000.0\n",
       "10825     7700000.0\n",
       "10826     7700000.0\n",
       "10827    13000000.0\n",
       "10828    13000000.0\n",
       "10829     7400000.0\n",
       "10830     2300000.0\n",
       "10831     9800000.0\n",
       "10832      582000.0\n",
       "10833      619000.0\n",
       "10834     2600000.0\n",
       "10835     9600000.0\n",
       "10836    53000000.0\n",
       "10837     3600000.0\n",
       "10838     9500000.0\n",
       "10839     9500000.0\n",
       "10840    19000000.0\n",
       "Name: Size, Length: 10841, dtype: float64"
      ]
     },
     "execution_count": 162,
     "metadata": {},
     "output_type": "execute_result"
    }
   ],
   "source": [
    "features_df.Size"
   ]
  },
  {
   "cell_type": "markdown",
   "metadata": {},
   "source": [
    "### Price"
   ]
  },
  {
   "cell_type": "code",
   "execution_count": 146,
   "metadata": {},
   "outputs": [],
   "source": [
    "features_df.Price=features_df.Price.apply(lambda x: x.strip('$'))"
   ]
  },
  {
   "cell_type": "code",
   "execution_count": 147,
   "metadata": {},
   "outputs": [],
   "source": [
    "def price(types):\n",
    "    if price == 'Everyone':\n",
    "        return 0\n",
    "\n",
    "features_df['Price'] = features_df['Price'].map(type_cat)"
   ]
  },
  {
   "cell_type": "markdown",
   "metadata": {},
   "source": [
    "### Category (One hot coding)"
   ]
  },
  {
   "cell_type": "code",
   "execution_count": 148,
   "metadata": {},
   "outputs": [],
   "source": [
    "features_df = pd.get_dummies(features_df, columns=['Category'])"
   ]
  },
  {
   "cell_type": "code",
   "execution_count": 149,
   "metadata": {},
   "outputs": [],
   "source": [
    "rating_df = features_df['Rating']"
   ]
  },
  {
   "cell_type": "code",
   "execution_count": 151,
   "metadata": {},
   "outputs": [],
   "source": [
    "features_df = features_df.drop(columns = ['Rating'])"
   ]
  },
  {
   "cell_type": "code",
   "execution_count": 152,
   "metadata": {
    "scrolled": true
   },
   "outputs": [
    {
     "data": {
      "text/plain": [
       "Index(['Reviews', 'Size', 'Installs', 'Type', 'Price',\n",
       "       'Content Rating_Adults only 18+', 'Content Rating_Everyone',\n",
       "       'Content Rating_Everyone 10+', 'Content Rating_Mature 17+',\n",
       "       'Content Rating_Teen', 'Content Rating_Unrated', 'Category_1.9',\n",
       "       'Category_ART_AND_DESIGN', 'Category_AUTO_AND_VEHICLES',\n",
       "       'Category_BEAUTY', 'Category_BOOKS_AND_REFERENCE', 'Category_BUSINESS',\n",
       "       'Category_COMICS', 'Category_COMMUNICATION', 'Category_DATING',\n",
       "       'Category_EDUCATION', 'Category_ENTERTAINMENT', 'Category_EVENTS',\n",
       "       'Category_FAMILY', 'Category_FINANCE', 'Category_FOOD_AND_DRINK',\n",
       "       'Category_GAME', 'Category_HEALTH_AND_FITNESS',\n",
       "       'Category_HOUSE_AND_HOME', 'Category_LIBRARIES_AND_DEMO',\n",
       "       'Category_LIFESTYLE', 'Category_MAPS_AND_NAVIGATION',\n",
       "       'Category_MEDICAL', 'Category_NEWS_AND_MAGAZINES', 'Category_PARENTING',\n",
       "       'Category_PERSONALIZATION', 'Category_PHOTOGRAPHY',\n",
       "       'Category_PRODUCTIVITY', 'Category_SHOPPING', 'Category_SOCIAL',\n",
       "       'Category_SPORTS', 'Category_TOOLS', 'Category_TRAVEL_AND_LOCAL',\n",
       "       'Category_VIDEO_PLAYERS', 'Category_WEATHER'],\n",
       "      dtype='object')"
      ]
     },
     "execution_count": 152,
     "metadata": {},
     "output_type": "execute_result"
    }
   ],
   "source": [
    "features_df.columns"
   ]
  },
  {
   "cell_type": "markdown",
   "metadata": {},
   "source": [
    "## Train Test Split"
   ]
  },
  {
   "cell_type": "code",
   "execution_count": 153,
   "metadata": {},
   "outputs": [
    {
     "name": "stdout",
     "output_type": "stream",
     "text": [
      "(7588, 45) (7588,)\n",
      "(3253, 45) (3253,)\n"
     ]
    }
   ],
   "source": [
    "from sklearn.model_selection import train_test_split\n",
    "\n",
    "y = rating_df\n",
    "X_train, X_test, y_train, y_test = train_test_split(features_df, y , test_size=0.30, random_state=42)\n",
    "print (X_train.shape, y_train.shape)\n",
    "print (X_test.shape, y_test.shape)"
   ]
  },
  {
   "cell_type": "markdown",
   "metadata": {},
   "source": [
    "### Handling Missing Values"
   ]
  },
  {
   "cell_type": "code",
   "execution_count": 154,
   "metadata": {},
   "outputs": [
    {
     "data": {
      "text/plain": [
       "1017"
      ]
     },
     "execution_count": 154,
     "metadata": {},
     "output_type": "execute_result"
    }
   ],
   "source": [
    "missing_value_indices = y_train[y_train.isnull()].index.values\n",
    "len(missing_value_indices)"
   ]
  },
  {
   "cell_type": "code",
   "execution_count": 155,
   "metadata": {},
   "outputs": [],
   "source": [
    "y_train = y_train.fillna(y_train.mean())"
   ]
  },
  {
   "cell_type": "code",
   "execution_count": 156,
   "metadata": {},
   "outputs": [
    {
     "data": {
      "text/plain": [
       "0"
      ]
     },
     "execution_count": 156,
     "metadata": {},
     "output_type": "execute_result"
    }
   ],
   "source": [
    "missing_value_indices = y_train[y_train.isnull()].index.values\n",
    "len(missing_value_indices)"
   ]
  },
  {
   "cell_type": "code",
   "execution_count": 157,
   "metadata": {},
   "outputs": [
    {
     "data": {
      "text/plain": [
       "[]"
      ]
     },
     "execution_count": 157,
     "metadata": {},
     "output_type": "execute_result"
    }
   ],
   "source": [
    "features_df.columns[features_df.isna().any()].tolist()"
   ]
  },
  {
   "cell_type": "code",
   "execution_count": 179,
   "metadata": {},
   "outputs": [
    {
     "data": {
      "text/plain": [
       "10367    4.195252\n",
       "6889     4.100000\n",
       "524      4.400000\n",
       "862      3.100000\n",
       "2094     4.500000\n",
       "947      4.100000\n",
       "4649     4.200000\n",
       "1444     4.600000\n",
       "1280     4.700000\n",
       "10195    4.100000\n",
       "122      4.500000\n",
       "4989     4.600000\n",
       "6615     3.800000\n",
       "8866     4.000000\n",
       "8963     3.500000\n",
       "7948     4.500000\n",
       "2302     4.600000\n",
       "8161     4.195252\n",
       "2004     4.600000\n",
       "5786     3.800000\n",
       "9849     4.300000\n",
       "1005     4.000000\n",
       "6322     4.200000\n",
       "9598     4.100000\n",
       "5740     4.200000\n",
       "3055     4.400000\n",
       "2885     4.400000\n",
       "3393     4.800000\n",
       "2132     4.300000\n",
       "6480     4.195252\n",
       "           ...   \n",
       "9998     4.300000\n",
       "9167     4.500000\n",
       "2747     4.500000\n",
       "2047     4.500000\n",
       "7849     4.400000\n",
       "2558     4.600000\n",
       "9274     3.600000\n",
       "8666     4.300000\n",
       "6396     5.000000\n",
       "3385     4.500000\n",
       "4555     3.700000\n",
       "1184     4.700000\n",
       "6420     4.400000\n",
       "5051     4.195252\n",
       "5311     3.600000\n",
       "2433     4.195252\n",
       "6949     4.500000\n",
       "10583    3.800000\n",
       "769      4.200000\n",
       "1685     4.400000\n",
       "8322     4.195252\n",
       "5578     4.500000\n",
       "4426     4.400000\n",
       "466      4.200000\n",
       "6265     4.000000\n",
       "5734     4.195252\n",
       "5191     4.400000\n",
       "5390     3.700000\n",
       "860      3.500000\n",
       "7270     5.000000\n",
       "Name: Rating, Length: 7588, dtype: float64"
      ]
     },
     "execution_count": 179,
     "metadata": {},
     "output_type": "execute_result"
    }
   ],
   "source": [
    "y_train"
   ]
  },
  {
   "cell_type": "markdown",
   "metadata": {},
   "source": [
    "### Normalization"
   ]
  },
  {
   "cell_type": "code",
   "execution_count": 180,
   "metadata": {},
   "outputs": [
    {
     "data": {
      "text/html": [
       "<div>\n",
       "<style scoped>\n",
       "    .dataframe tbody tr th:only-of-type {\n",
       "        vertical-align: middle;\n",
       "    }\n",
       "\n",
       "    .dataframe tbody tr th {\n",
       "        vertical-align: top;\n",
       "    }\n",
       "\n",
       "    .dataframe thead th {\n",
       "        text-align: right;\n",
       "    }\n",
       "</style>\n",
       "<table border=\"1\" class=\"dataframe\">\n",
       "  <thead>\n",
       "    <tr style=\"text-align: right;\">\n",
       "      <th></th>\n",
       "      <th>Reviews</th>\n",
       "      <th>Size</th>\n",
       "      <th>Installs</th>\n",
       "      <th>Type</th>\n",
       "      <th>Price</th>\n",
       "      <th>Content Rating_Adults only 18+</th>\n",
       "      <th>Content Rating_Everyone</th>\n",
       "      <th>Content Rating_Everyone 10+</th>\n",
       "      <th>Content Rating_Mature 17+</th>\n",
       "      <th>Content Rating_Teen</th>\n",
       "      <th>...</th>\n",
       "      <th>Category_PERSONALIZATION</th>\n",
       "      <th>Category_PHOTOGRAPHY</th>\n",
       "      <th>Category_PRODUCTIVITY</th>\n",
       "      <th>Category_SHOPPING</th>\n",
       "      <th>Category_SOCIAL</th>\n",
       "      <th>Category_SPORTS</th>\n",
       "      <th>Category_TOOLS</th>\n",
       "      <th>Category_TRAVEL_AND_LOCAL</th>\n",
       "      <th>Category_VIDEO_PLAYERS</th>\n",
       "      <th>Category_WEATHER</th>\n",
       "    </tr>\n",
       "  </thead>\n",
       "  <tbody>\n",
       "  </tbody>\n",
       "</table>\n",
       "<p>0 rows × 45 columns</p>\n",
       "</div>"
      ],
      "text/plain": [
       "Empty DataFrame\n",
       "Columns: [Reviews, Size, Installs, Type, Price, Content Rating_Adults only 18+, Content Rating_Everyone, Content Rating_Everyone 10+, Content Rating_Mature 17+, Content Rating_Teen, Content Rating_Unrated, Category_1.9, Category_ART_AND_DESIGN, Category_AUTO_AND_VEHICLES, Category_BEAUTY, Category_BOOKS_AND_REFERENCE, Category_BUSINESS, Category_COMICS, Category_COMMUNICATION, Category_DATING, Category_EDUCATION, Category_ENTERTAINMENT, Category_EVENTS, Category_FAMILY, Category_FINANCE, Category_FOOD_AND_DRINK, Category_GAME, Category_HEALTH_AND_FITNESS, Category_HOUSE_AND_HOME, Category_LIBRARIES_AND_DEMO, Category_LIFESTYLE, Category_MAPS_AND_NAVIGATION, Category_MEDICAL, Category_NEWS_AND_MAGAZINES, Category_PARENTING, Category_PERSONALIZATION, Category_PHOTOGRAPHY, Category_PRODUCTIVITY, Category_SHOPPING, Category_SOCIAL, Category_SPORTS, Category_TOOLS, Category_TRAVEL_AND_LOCAL, Category_VIDEO_PLAYERS, Category_WEATHER]\n",
       "Index: []\n",
       "\n",
       "[0 rows x 45 columns]"
      ]
     },
     "execution_count": 180,
     "metadata": {},
     "output_type": "execute_result"
    }
   ],
   "source": [
    "new = X_train[\"Price\"].isin([\"3.0M\"]) \n",
    "  \n",
    "# displaying data with gender = male only \n",
    "X_train[new] "
   ]
  },
  {
   "cell_type": "code",
   "execution_count": 169,
   "metadata": {},
   "outputs": [],
   "source": [
    "#min_max_scaler = preprocessing.MinMaxScaler()\n",
    "#X_train_minmax = min_max_scaler.fit_transform(X_train)\n",
    "#X_train_minmax"
   ]
  },
  {
   "cell_type": "code",
   "execution_count": 174,
   "metadata": {},
   "outputs": [
    {
     "ename": "ValueError",
     "evalue": "could not convert string to float: '3.0M'",
     "output_type": "error",
     "traceback": [
      "\u001b[1;31m---------------------------------------------------------------------------\u001b[0m",
      "\u001b[1;31mValueError\u001b[0m                                Traceback (most recent call last)",
      "\u001b[1;32m<ipython-input-174-1e900162fc09>\u001b[0m in \u001b[0;36m<module>\u001b[1;34m()\u001b[0m\n\u001b[0;32m      6\u001b[0m \u001b[1;33m\u001b[0m\u001b[0m\n\u001b[0;32m      7\u001b[0m \u001b[1;31m# Train the model using the training sets\u001b[0m\u001b[1;33m\u001b[0m\u001b[1;33m\u001b[0m\u001b[0m\n\u001b[1;32m----> 8\u001b[1;33m \u001b[0mregr\u001b[0m\u001b[1;33m.\u001b[0m\u001b[0mfit\u001b[0m\u001b[1;33m(\u001b[0m\u001b[0mX_train\u001b[0m\u001b[1;33m,\u001b[0m \u001b[0my_train\u001b[0m\u001b[1;33m)\u001b[0m\u001b[1;33m\u001b[0m\u001b[0m\n\u001b[0m\u001b[0;32m      9\u001b[0m \u001b[1;33m\u001b[0m\u001b[0m\n\u001b[0;32m     10\u001b[0m \u001b[1;31m# Make predictions using the testing set\u001b[0m\u001b[1;33m\u001b[0m\u001b[1;33m\u001b[0m\u001b[0m\n",
      "\u001b[1;32m~\\Anaconda3\\lib\\site-packages\\sklearn\\linear_model\\base.py\u001b[0m in \u001b[0;36mfit\u001b[1;34m(self, X, y, sample_weight)\u001b[0m\n\u001b[0;32m    480\u001b[0m         \u001b[0mn_jobs_\u001b[0m \u001b[1;33m=\u001b[0m \u001b[0mself\u001b[0m\u001b[1;33m.\u001b[0m\u001b[0mn_jobs\u001b[0m\u001b[1;33m\u001b[0m\u001b[0m\n\u001b[0;32m    481\u001b[0m         X, y = check_X_y(X, y, accept_sparse=['csr', 'csc', 'coo'],\n\u001b[1;32m--> 482\u001b[1;33m                          y_numeric=True, multi_output=True)\n\u001b[0m\u001b[0;32m    483\u001b[0m \u001b[1;33m\u001b[0m\u001b[0m\n\u001b[0;32m    484\u001b[0m         \u001b[1;32mif\u001b[0m \u001b[0msample_weight\u001b[0m \u001b[1;32mis\u001b[0m \u001b[1;32mnot\u001b[0m \u001b[1;32mNone\u001b[0m \u001b[1;32mand\u001b[0m \u001b[0mnp\u001b[0m\u001b[1;33m.\u001b[0m\u001b[0matleast_1d\u001b[0m\u001b[1;33m(\u001b[0m\u001b[0msample_weight\u001b[0m\u001b[1;33m)\u001b[0m\u001b[1;33m.\u001b[0m\u001b[0mndim\u001b[0m \u001b[1;33m>\u001b[0m \u001b[1;36m1\u001b[0m\u001b[1;33m:\u001b[0m\u001b[1;33m\u001b[0m\u001b[0m\n",
      "\u001b[1;32m~\\Anaconda3\\lib\\site-packages\\sklearn\\utils\\validation.py\u001b[0m in \u001b[0;36mcheck_X_y\u001b[1;34m(X, y, accept_sparse, dtype, order, copy, force_all_finite, ensure_2d, allow_nd, multi_output, ensure_min_samples, ensure_min_features, y_numeric, warn_on_dtype, estimator)\u001b[0m\n\u001b[0;32m    571\u001b[0m     X = check_array(X, accept_sparse, dtype, order, copy, force_all_finite,\n\u001b[0;32m    572\u001b[0m                     \u001b[0mensure_2d\u001b[0m\u001b[1;33m,\u001b[0m \u001b[0mallow_nd\u001b[0m\u001b[1;33m,\u001b[0m \u001b[0mensure_min_samples\u001b[0m\u001b[1;33m,\u001b[0m\u001b[1;33m\u001b[0m\u001b[0m\n\u001b[1;32m--> 573\u001b[1;33m                     ensure_min_features, warn_on_dtype, estimator)\n\u001b[0m\u001b[0;32m    574\u001b[0m     \u001b[1;32mif\u001b[0m \u001b[0mmulti_output\u001b[0m\u001b[1;33m:\u001b[0m\u001b[1;33m\u001b[0m\u001b[0m\n\u001b[0;32m    575\u001b[0m         y = check_array(y, 'csr', force_all_finite=True, ensure_2d=False,\n",
      "\u001b[1;32m~\\Anaconda3\\lib\\site-packages\\sklearn\\utils\\validation.py\u001b[0m in \u001b[0;36mcheck_array\u001b[1;34m(array, accept_sparse, dtype, order, copy, force_all_finite, ensure_2d, allow_nd, ensure_min_samples, ensure_min_features, warn_on_dtype, estimator)\u001b[0m\n\u001b[0;32m    446\u001b[0m         \u001b[1;31m# make sure we actually converted to numeric:\u001b[0m\u001b[1;33m\u001b[0m\u001b[1;33m\u001b[0m\u001b[0m\n\u001b[0;32m    447\u001b[0m         \u001b[1;32mif\u001b[0m \u001b[0mdtype_numeric\u001b[0m \u001b[1;32mand\u001b[0m \u001b[0marray\u001b[0m\u001b[1;33m.\u001b[0m\u001b[0mdtype\u001b[0m\u001b[1;33m.\u001b[0m\u001b[0mkind\u001b[0m \u001b[1;33m==\u001b[0m \u001b[1;34m\"O\"\u001b[0m\u001b[1;33m:\u001b[0m\u001b[1;33m\u001b[0m\u001b[0m\n\u001b[1;32m--> 448\u001b[1;33m             \u001b[0marray\u001b[0m \u001b[1;33m=\u001b[0m \u001b[0marray\u001b[0m\u001b[1;33m.\u001b[0m\u001b[0mastype\u001b[0m\u001b[1;33m(\u001b[0m\u001b[0mnp\u001b[0m\u001b[1;33m.\u001b[0m\u001b[0mfloat64\u001b[0m\u001b[1;33m)\u001b[0m\u001b[1;33m\u001b[0m\u001b[0m\n\u001b[0m\u001b[0;32m    449\u001b[0m         \u001b[1;32mif\u001b[0m \u001b[1;32mnot\u001b[0m \u001b[0mallow_nd\u001b[0m \u001b[1;32mand\u001b[0m \u001b[0marray\u001b[0m\u001b[1;33m.\u001b[0m\u001b[0mndim\u001b[0m \u001b[1;33m>=\u001b[0m \u001b[1;36m3\u001b[0m\u001b[1;33m:\u001b[0m\u001b[1;33m\u001b[0m\u001b[0m\n\u001b[0;32m    450\u001b[0m             raise ValueError(\"Found array with dim %d. %s expected <= 2.\"\n",
      "\u001b[1;31mValueError\u001b[0m: could not convert string to float: '3.0M'"
     ]
    }
   ],
   "source": [
    "from sklearn import linear_model\n",
    "from sklearn.linear_model import LinearRegression\n",
    "\n",
    "# Create linear regression object\n",
    "regr = linear_model.LinearRegression()\n",
    "\n",
    "# Train the model using the training sets\n",
    "regr.fit(X_train, y_train)\n",
    "\n",
    "# Make predictions using the testing set\n",
    "y_pred = regr.predict(X_test)\n",
    "\n",
    "# The coefficients\n",
    "print('Coefficients: \\n', regr.coef_)\n",
    "# The mean squared error\n",
    "print(\"Mean squared error: %.2f\" % mean_squared_error(y_test, y_pred))\n",
    "# Explained variance score: 1 is perfect prediction\n",
    "print('R2 score: %.7f' % r2_score(y_test, y_pred))\n",
    "\n",
    "# Plot outputs\n",
    "plt.scatter(y_test,y_pred)\n",
    "\n",
    "plt.show()"
   ]
  },
  {
   "cell_type": "code",
   "execution_count": null,
   "metadata": {},
   "outputs": [],
   "source": []
  },
  {
   "cell_type": "code",
   "execution_count": null,
   "metadata": {},
   "outputs": [],
   "source": []
  }
 ],
 "metadata": {
  "kernelspec": {
   "display_name": "Python 3",
   "language": "python",
   "name": "python3"
  },
  "language_info": {
   "codemirror_mode": {
    "name": "ipython",
    "version": 3
   },
   "file_extension": ".py",
   "mimetype": "text/x-python",
   "name": "python",
   "nbconvert_exporter": "python",
   "pygments_lexer": "ipython3",
   "version": "3.6.5"
  }
 },
 "nbformat": 4,
 "nbformat_minor": 2
}
